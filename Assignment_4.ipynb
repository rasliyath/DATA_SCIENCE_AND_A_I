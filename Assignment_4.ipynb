{
 "cells": [
  {
   "cell_type": "markdown",
   "metadata": {},
   "source": [
    "### Q1 : create a txt file, enter multiple lines of text. read this file line by line and store it into a list. Apply exception handling technique\n"
   ]
  },
  {
   "cell_type": "code",
   "execution_count": 29,
   "metadata": {},
   "outputs": [
    {
     "name": "stdout",
     "output_type": "stream",
     "text": [
      "Written content in the file successfully\n"
     ]
    }
   ],
   "source": [
    "try:\n",
    "    mf_1 = open(\"Assignmentfile_1.txt\", \"w+\")\n",
    "    l=[\"This is my first line \\n\",\"This is my second line \\n\",\"This is my third line \\n\",\"This is my fourth line \\n\"]\n",
    "    mf_1.writelines(l)\n",
    "    mf_1.readlines()\n",
    "except IOError:\n",
    "    print (\"Error: can't find file or read data\")\n",
    "else:\n",
    "    print (\"Written content in the file successfully\")\n",
    "    mf_1.close()\n",
    "    \n",
    "    "
   ]
  },
  {
   "cell_type": "markdown",
   "metadata": {},
   "source": [
    "### Q2: Write a Python program to write below list content to a file. Apply exception handling technique\n",
    "##### color = ['Red', 'Green', 'White', 'Black', 'Pink', 'Yellow']"
   ]
  },
  {
   "cell_type": "code",
   "execution_count": 30,
   "metadata": {},
   "outputs": [
    {
     "name": "stdout",
     "output_type": "stream",
     "text": [
      "Written content in the file successfully\n"
     ]
    }
   ],
   "source": [
    "try:\n",
    "    mf_2 = open(\"Assignmentfile_2.txt\", \"w+\")\n",
    "    color=['Red','Green','White','Black','Pink','Yellow']\n",
    "    mf_2.writelines(color)\n",
    "    mf_2.readlines()\n",
    "except IOError:\n",
    "    print (\"Error: can't find file or read data\")\n",
    "else:\n",
    "    print (\"Written content in the file successfully\")\n",
    "    mf_2.close()"
   ]
  },
  {
   "cell_type": "markdown",
   "metadata": {},
   "source": [
    "### Q3 : create a txt file, enter multiple lines of text. remove newline characters from created file and print as a list. Apply exception handling techniques wherever possible\n"
   ]
  },
  {
   "cell_type": "code",
   "execution_count": 31,
   "metadata": {},
   "outputs": [
    {
     "name": "stdout",
     "output_type": "stream",
     "text": [
      "Written content in the file successfully\n"
     ]
    }
   ],
   "source": [
    "try:\n",
    "    mf_3 = open(\"Assignmentfile_3.txt\", \"w+\")\n",
    "    mf_3.writelines(\"Lines before removing newline charecters:\\n\")\n",
    "    l=[\"This is my first line \\n\",\"This is my second line \\n\",\"This is my third line \\n\",\"This is my fourth line \\n\",\"This is my fifth line \\n\"]\n",
    "    mf_3.writelines(l)\n",
    "    mf_3.writelines(\"Lines after removing newline charecters:\\n\")\n",
    "    l2=[\"This is my first line. \",\"This is my second line. \",\"This is my third line. \",\"This is my fourth line. \",\"This is my fifth line. \"]\n",
    "    mf_3.writelines(l2)\n",
    "except IOError:\n",
    "    print (\"Error: can't find file or read data\")\n",
    "else:\n",
    "    print (\"Written content in the file successfully\")\n",
    "    mf_3.close()"
   ]
  },
  {
   "cell_type": "markdown",
   "metadata": {},
   "source": [
    "### Q4 : create a testfile1.txt file, enter multiple lines of text . Now copy contents of testfile1.txt to new file testfile22.txt. Apply exception handling techniques wherever possible"
   ]
  },
  {
   "cell_type": "code",
   "execution_count": 16,
   "metadata": {},
   "outputs": [
    {
     "name": "stdout",
     "output_type": "stream",
     "text": [
      "Written content in the file successfully\n"
     ]
    }
   ],
   "source": [
    "try:\n",
    "    mf=open(\"testfile1.txt\",\"w+\")\n",
    "    l=[\"This is my first line \\n\",\"This is my second line \\n\",\"This is my third line \\n\",\"This is my fourth line \\n\",\"This is my fifth line \\n\"]\n",
    "    mf.writelines(l) \n",
    "    mf.close()\n",
    "    mf1=open(\"testfile1.txt\",\"r\")\n",
    "    mf2=open(\"testfile2.txt\",\"w+\")\n",
    "    for line in mf1:\n",
    "        mf2.write(line)\n",
    "except IOError:\n",
    "    print (\"Error: can't find file or read data\")\n",
    "else:\n",
    "    print (\"Written content in the file successfully\")\n",
    "    mf2.close()        \n",
    "        "
   ]
  }
 ],
 "metadata": {
  "kernelspec": {
   "display_name": "Python 3",
   "language": "python",
   "name": "python3"
  },
  "language_info": {
   "codemirror_mode": {
    "name": "ipython",
    "version": 3
   },
   "file_extension": ".py",
   "mimetype": "text/x-python",
   "name": "python",
   "nbconvert_exporter": "python",
   "pygments_lexer": "ipython3",
   "version": "3.8.3"
  }
 },
 "nbformat": 4,
 "nbformat_minor": 4
}
