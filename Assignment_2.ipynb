{
 "cells": [
  {
   "cell_type": "markdown",
   "metadata": {},
   "source": [
    "### Q 1.  Modify the first item (22) of a list inside a following tuple to  222 . \n",
    "###  tuple1 = (11, [22, 33], 44, 55)\n",
    "### Expected output  :-  tuple1 = (11, [222, 33], 44, 55)"
   ]
  },
  {
   "cell_type": "code",
   "execution_count": 7,
   "metadata": {},
   "outputs": [
    {
     "name": "stdout",
     "output_type": "stream",
     "text": [
      "First tuple: (11, [22, 33], 44, 55)\n",
      "Modified tuple: (11, [222, 33], 44, 55)\n"
     ]
    }
   ],
   "source": [
    "tuple1=(11,[22,33],44,55)\n",
    "print(\"First tuple:\",tuple1)\n",
    "tuple1[1][0]=222\n",
    "print(\"Modified tuple:\",tuple1)"
   ]
  },
  {
   "cell_type": "markdown",
   "metadata": {},
   "source": [
    "###  Q 2: Count the number of occurrences of item 50 from a tuple. tuple1 = (50, 10, 60, 70, 50)"
   ]
  },
  {
   "cell_type": "code",
   "execution_count": 16,
   "metadata": {},
   "outputs": [
    {
     "name": "stdout",
     "output_type": "stream",
     "text": [
      "Tuple: (50, 10, 60, 70, 50)\n",
      "Number of occurence of item 50 in this tuple is: 2\n"
     ]
    }
   ],
   "source": [
    "tuple1=(50,10,60,70,50)\n",
    "print(\"Tuple:\",tuple1)\n",
    "count=0\n",
    "for i in range(0,5):\n",
    "    if tuple1[i]==50:\n",
    "        count=count+1\n",
    "print(\"Number of occurence of item 50 in this tuple is:\",count)        \n",
    "            "
   ]
  },
  {
   "cell_type": "markdown",
   "metadata": {},
   "source": [
    "###  Q 3: Write a Python program to convert a list to a tuple"
   ]
  },
  {
   "cell_type": "code",
   "execution_count": 25,
   "metadata": {},
   "outputs": [
    {
     "name": "stdout",
     "output_type": "stream",
     "text": [
      "Enter number of elements in list: 3\n",
      "Enter elements: 5\n",
      "Enter elements: 7\n",
      "Enter elements: 9\n",
      "Your list: [5, 7, 9]\n",
      "Your list is converted into tuple: (5, 7, 9)\n"
     ]
    }
   ],
   "source": [
    "list1 = [] \n",
    "num = int(input(\"Enter number of elements in list: \")) \n",
    "for i in range(1, num + 1): \n",
    "    a= int(input(\"Enter elements: \")) \n",
    "    list1.append(a)   \n",
    "print(\"Your list:\",list1)\n",
    "tuple1=tuple(list1)\n",
    "print(\"Your list is converted into tuple:\",tuple1)"
   ]
  },
  {
   "cell_type": "markdown",
   "metadata": {},
   "source": [
    "### Q 4: Returns a new set with all items from both sets by removing duplicates\n",
    "### set1 = {10, 20, 30, 40, 50} , set2 = {30, 40, 50, 60, 70}\n"
   ]
  },
  {
   "cell_type": "code",
   "execution_count": 28,
   "metadata": {},
   "outputs": [
    {
     "name": "stdout",
     "output_type": "stream",
     "text": [
      "{70, 40, 10, 50, 20, 60, 30}\n"
     ]
    }
   ],
   "source": [
    "set1={10,20,30,40,50}\n",
    "set2={30,40,50,60,70}\n",
    "set3=(set1.union(set2))\n",
    "print(set3)            \n",
    "            "
   ]
  },
  {
   "cell_type": "markdown",
   "metadata": {},
   "source": [
    "###  Q5: Merge following two Python dictionaries into one\n",
    "### dict1 = {'Ten': 10, 'Twenty': 20, 'Thirty': 30}\n",
    "### dict2 = {'Thirty': 30, 'Fourty': 40, 'Fifty': 50}\n"
   ]
  },
  {
   "cell_type": "code",
   "execution_count": 31,
   "metadata": {},
   "outputs": [
    {
     "name": "stdout",
     "output_type": "stream",
     "text": [
      "Firt dictionary: {'Ten': 10, 'Twenty': 20, 'Thirty': 30}\n",
      "Second dictionary: {'Thirty': 30, 'Fourty': 40, 'Fifty': 50}\n",
      "Dictionary after merging: {'Ten': 10, 'Twenty': 20, 'Thirty': 30, 'Fourty': 40, 'Fifty': 50}\n"
     ]
    }
   ],
   "source": [
    "dict1 = {'Ten': 10, 'Twenty': 20, 'Thirty': 30}\n",
    "dict2 = {'Thirty': 30, 'Fourty': 40, 'Fifty': 50}\n",
    "print(\"Firt dictionary:\",dict1)\n",
    "print(\"Second dictionary:\",dict2)\n",
    "dict3=dict1.copy()\n",
    "dict3.update(dict2)\n",
    "print(\"Dictionary after merging:\",dict3)\n"
   ]
  },
  {
   "cell_type": "markdown",
   "metadata": {},
   "source": [
    "###  Q6: Given a Python dictionary, Change Brad’s salary to 8500\n",
    "### sampleDict = \n",
    "              {\n",
    "            'emp1': {'name': 'Jhon', 'salary': 7500},\n",
    "            'emp2': {'name': 'Emma', 'salary': 8000},\n",
    "            'emp3': {'name': 'Brad', 'salary': 6500}\n",
    "              }\n",
    "### Expected output:\n",
    "### sampleDict = \n",
    "              {\n",
    "              'emp1': {'name': 'Jhon', 'salary': 7500},\n",
    "              'emp2': {'name': 'Emma', 'salary': 8000},\n",
    "              'emp3': {'name': 'Brad', 'salary': 8500}\n",
    "              }"
   ]
  },
  {
   "cell_type": "code",
   "execution_count": 37,
   "metadata": {},
   "outputs": [
    {
     "name": "stdout",
     "output_type": "stream",
     "text": [
      "Dictionary after changing:\n"
     ]
    },
    {
     "data": {
      "text/plain": [
       "{'emp1': {'name': 'Jhon', 'salary': 7500},\n",
       " 'emp2': {'name': 'Emma', 'salary': 8000},\n",
       " 'emp3': {'name': 'Brad', 'salary': 8500}}"
      ]
     },
     "execution_count": 37,
     "metadata": {},
     "output_type": "execute_result"
    }
   ],
   "source": [
    "sampleDict ={\n",
    "        'emp1': {'name': 'Jhon', 'salary': 7500},\n",
    "        'emp2': {'name': 'Emma', 'salary': 8000},\n",
    "        'emp3': {'name': 'Brad', 'salary': 6500}\n",
    "          }\n",
    "sampleDict['emp3']['salary']=8500\n",
    "print(\"Dictionary after changing:\")\n",
    "sampleDict"
   ]
  },
  {
   "cell_type": "markdown",
   "metadata": {},
   "source": [
    "### Q7: Rename key city to location in the following dictionary\n",
    "### sampleDict =\n",
    "                     {\n",
    "                      \"name\": \"Kelly\",\n",
    "                      \"age\":25,\n",
    "                      \"salary\": 8000,\n",
    "                      \"city\": \"New york\"\n",
    "                     }\n",
    "### Expected output:\n",
    "                    {\n",
    "                     \"name\": \"Kelly\",\n",
    "                     \"age\":25,\n",
    "                     \"salary\": 8000,\n",
    "                     \"location\": \"New york\"\n",
    "                     }"
   ]
  },
  {
   "cell_type": "code",
   "execution_count": 52,
   "metadata": {},
   "outputs": [
    {
     "name": "stdout",
     "output_type": "stream",
     "text": [
      "Dictionary after renaming: {'name': 'Kelly', 'age': 25, 'salary': 8000, 'location': 'New york'}\n"
     ]
    }
   ],
   "source": [
    "sampleDict ={ \"name\": \"Kelly\", \"age\":25, \"salary\": 8000,\"city\": \"New york\"}\n",
    "del sampleDict['city']\n",
    "sampleDict['location']='New york'\n",
    "print(\"Dictionary after renaming:\",sampleDict)\n"
   ]
  },
  {
   "cell_type": "code",
   "execution_count": null,
   "metadata": {},
   "outputs": [],
   "source": []
  }
 ],
 "metadata": {
  "kernelspec": {
   "display_name": "Python 3",
   "language": "python",
   "name": "python3"
  },
  "language_info": {
   "codemirror_mode": {
    "name": "ipython",
    "version": 3
   },
   "file_extension": ".py",
   "mimetype": "text/x-python",
   "name": "python",
   "nbconvert_exporter": "python",
   "pygments_lexer": "ipython3",
   "version": "3.8.3"
  }
 },
 "nbformat": 4,
 "nbformat_minor": 4
}
