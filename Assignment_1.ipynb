{
 "cells": [
  {
   "cell_type": "markdown",
   "metadata": {},
   "source": [
    "###  1.Input a string of odd length (minimum 9 characters), print a string made of the 3 middle\n",
    "###    characters from input string.(eg :- if input is abcdefghi, answer should be def)"
   ]
  },
  {
   "cell_type": "code",
   "execution_count": 10,
   "metadata": {},
   "outputs": [
    {
     "name": "stdout",
     "output_type": "stream",
     "text": [
      "Enter odd length string having minimum 9 charecters:abcdefghijklmno\n",
      "3 middle charecters from your string is: g h i\n"
     ]
    }
   ],
   "source": [
    "str=input(\"Enter odd length string having minimum 9 charecters:\")\n",
    "k=len(str)\n",
    "if k%2==0:\n",
    "    print(\"Please enter an odd length string having minimum 9 charecters\")\n",
    "else:\n",
    "    a=(k//2)-1\n",
    "    print(\"3 middle charecters from your string is:\",str[a],str[a+1],str[a+2])"
   ]
  },
  {
   "cell_type": "markdown",
   "metadata": {},
   "source": [
    "###  2.Calculate the sum and average of first n natural numbers\n",
    "### a). using for loop\n",
    "### b). using while loop"
   ]
  },
  {
   "cell_type": "code",
   "execution_count": 11,
   "metadata": {},
   "outputs": [],
   "source": [
    "# a) Using for loop"
   ]
  },
  {
   "cell_type": "code",
   "execution_count": 17,
   "metadata": {},
   "outputs": [
    {
     "name": "stdout",
     "output_type": "stream",
     "text": [
      "enter your number:4\n",
      "Sum and average of first 4 numbers:\n",
      "Sum= 10 Average= 2.5\n"
     ]
    }
   ],
   "source": [
    "n=int(input(\"enter your number:\"))\n",
    "sum=0\n",
    "for i in range(1,n+1):\n",
    "    sum=sum+i\n",
    "avg=sum/n\n",
    "print(\"Sum and average of first\",n,\"numbers:\",)\n",
    "print(\"Sum=\",sum,\"Average=\",avg)"
   ]
  },
  {
   "cell_type": "code",
   "execution_count": 16,
   "metadata": {},
   "outputs": [],
   "source": [
    "# b) Using while loop"
   ]
  },
  {
   "cell_type": "code",
   "execution_count": 20,
   "metadata": {},
   "outputs": [
    {
     "name": "stdout",
     "output_type": "stream",
     "text": [
      "enter your number:5\n",
      "Sum and average of first 5 numbers:\n",
      "Sum= 15 Average= 3.0\n"
     ]
    }
   ],
   "source": [
    "n=int(input(\"enter your number:\"))\n",
    "sum=0\n",
    "i=1\n",
    "while i<n:\n",
    "    for i in range(1,n+1):\n",
    "        sum=sum+i\n",
    "        i=i+1\n",
    "avg=sum/n\n",
    "print(\"Sum and average of first\",n,\"numbers:\",)\n",
    "print(\"Sum=\",sum,\"Average=\",avg)"
   ]
  },
  {
   "cell_type": "markdown",
   "metadata": {},
   "source": [
    "###  3. Accept list of 5 float numbers as input from user using loop and store values in a list"
   ]
  },
  {
   "cell_type": "code",
   "execution_count": 3,
   "metadata": {},
   "outputs": [
    {
     "name": "stdout",
     "output_type": "stream",
     "text": [
      "Enter float numbers:4.5\n",
      "Enter float numbers:3.4\n",
      "Enter float numbers:2.6\n",
      "Enter float numbers:1.8\n",
      "Enter float numbers:9.7\n",
      "List of yor float numbers is here: [4.5, 3.4, 2.6, 1.8, 9.7]\n"
     ]
    }
   ],
   "source": [
    "lst=[]\n",
    "i=0\n",
    "while i<5:\n",
    "    a=float(input(\"Enter float number:\"))\n",
    "    lst.append(a)\n",
    "    i=i+1\n",
    "print(\"List of yor float numbers is here:\",lst)    "
   ]
  },
  {
   "cell_type": "markdown",
   "metadata": {},
   "source": [
    "###  4. Print the following patterns"
   ]
  },
  {
   "cell_type": "code",
   "execution_count": 4,
   "metadata": {},
   "outputs": [],
   "source": [
    "#    a)                                         # b)\n",
    "#        1                                            5 4 3 2 1\n",
    "#        1 2                                          4 3 2 1\n",
    "#        1 2 3                                        3 2 1\n",
    "#        1 2 3 4                                      2 1\n",
    "#        1 2 3 4 5                                    1"
   ]
  },
  {
   "cell_type": "code",
   "execution_count": 14,
   "metadata": {},
   "outputs": [
    {
     "name": "stdout",
     "output_type": "stream",
     "text": [
      "1  \n",
      "1 2  \n",
      "1 2 3  \n",
      "1 2 3 4  \n",
      "1 2 3 4 5  \n"
     ]
    }
   ],
   "source": [
    "#    a)                                        \n",
    "for i in range(1,6):\n",
    "    for j in range(1,i+1):\n",
    "        print(j,end=\" \")\n",
    "    print(\" \")  \n",
    " "
   ]
  },
  {
   "cell_type": "code",
   "execution_count": 8,
   "metadata": {},
   "outputs": [
    {
     "name": "stdout",
     "output_type": "stream",
     "text": [
      "5 4 3 2 1  \n",
      "4 3 2 1  \n",
      "3 2 1  \n",
      "2 1  \n",
      "1  \n"
     ]
    }
   ],
   "source": [
    " # b)\n",
    "    \n",
    "for i in range(0,5):\n",
    "    for j in range(5-i,0,-1):\n",
    "        print(j,end=\" \")\n",
    "    print(\" \")   "
   ]
  },
  {
   "cell_type": "markdown",
   "metadata": {},
   "source": [
    "###  5. input a number, count and print the total number of digits in that number using while loop"
   ]
  },
  {
   "cell_type": "code",
   "execution_count": 8,
   "metadata": {},
   "outputs": [
    {
     "name": "stdout",
     "output_type": "stream",
     "text": [
      "Enter a number:123446788\n",
      "your number having 9 numbers\n"
     ]
    }
   ],
   "source": [
    "n=int(input(\"Enter a number:\"))\n",
    "digits=0\n",
    "if n==0:\n",
    "    print(\"your number having 1 number\")\n",
    "else:\n",
    "    while(n!=0):\n",
    "        digits=digits+1\n",
    "        n=abs(n//10)\n",
    "    print(\"your number having\",digits,\"numbers\")"
   ]
  },
  {
   "cell_type": "markdown",
   "metadata": {},
   "source": [
    "### 6. Given two lists. Create a third list by picking an odd-index element from the \n",
    "### first listand even index elements from second.\n",
    "### listOne = [3, 6, 9, 12, 15, 18, 21]\n",
    "### listTwo = [4, 8, 12, 16, 20, 24, 28]\n"
   ]
  },
  {
   "cell_type": "code",
   "execution_count": 20,
   "metadata": {},
   "outputs": [
    {
     "name": "stdout",
     "output_type": "stream",
     "text": [
      "Third list: [6, 4, 12, 12, 18, 20]\n"
     ]
    }
   ],
   "source": [
    "l1=[3,6,9,12,15,18,21]\n",
    "l2=[4,8,12,16,20,24,28]\n",
    "l3=[]\n",
    "for i in range(1,len(l2)):\n",
    "    if i%2!=0:\n",
    "        l3.append(l1[i])\n",
    "    else:\n",
    "        l3.append(l2[i-2])\n",
    "                    \n",
    "print(\"Third list:\",l3)"
   ]
  },
  {
   "cell_type": "markdown",
   "metadata": {},
   "source": [
    "###  7. program to get the smallest number from a list."
   ]
  },
  {
   "cell_type": "code",
   "execution_count": 11,
   "metadata": {
    "scrolled": true
   },
   "outputs": [
    {
     "name": "stdout",
     "output_type": "stream",
     "text": [
      "Enter number of elements in list: 4\n",
      "Enter elements: 10\n",
      "Enter elements: 49\n",
      "Enter elements: 56\n",
      "Enter elements: 89\n",
      "Smallest element is: 10\n"
     ]
    }
   ],
   "source": [
    "lst = [] \n",
    "num = int(input(\"Enter number of elements in list: \")) \n",
    "for i in range(1, num + 1): \n",
    "    a= int(input(\"Enter elements: \")) \n",
    "    lst.append(a)\n",
    "small=lst[0]\n",
    "for i in range(len(lst)):\n",
    "    if lst[i]<small:\n",
    "        small=lst[i]  \n",
    "print(\"Smallest element is:\",small) "
   ]
  },
  {
   "cell_type": "markdown",
   "metadata": {},
   "source": [
    "###  8. Reverse the following list using for loop and range [ do not use reverse or reversed like functions]\n",
    "###     list1 = [10, 20, 30, 4, 50]"
   ]
  },
  {
   "cell_type": "code",
   "execution_count": 91,
   "metadata": {},
   "outputs": [
    {
     "name": "stdout",
     "output_type": "stream",
     "text": [
      "reversed list: [50, 4, 30, 20, 10]\n"
     ]
    }
   ],
   "source": [
    "lst2=[]\n",
    "lst=[10,20,30,4,50]\n",
    "for i in range(len(lst)-1,-1,-1):\n",
    "    lst2.append(lst[i])\n",
    "print(\"reversed list:\",lst2)       "
   ]
  }
 ],
 "metadata": {
  "kernelspec": {
   "display_name": "Python 3",
   "language": "python",
   "name": "python3"
  },
  "language_info": {
   "codemirror_mode": {
    "name": "ipython",
    "version": 3
   },
   "file_extension": ".py",
   "mimetype": "text/x-python",
   "name": "python",
   "nbconvert_exporter": "python",
   "pygments_lexer": "ipython3",
   "version": "3.8.3"
  }
 },
 "nbformat": 4,
 "nbformat_minor": 4
}
