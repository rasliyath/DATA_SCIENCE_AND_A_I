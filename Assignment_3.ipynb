{
 "cells": [
  {
   "cell_type": "markdown",
   "metadata": {},
   "source": [
    "### Q1: Write a function calculation() such that it can accept two variables as arguments and calculate the addition and subtraction of it. And also it must return both addition and subtraction in a single return call."
   ]
  },
  {
   "cell_type": "code",
   "execution_count": 15,
   "metadata": {},
   "outputs": [
    {
     "name": "stdout",
     "output_type": "stream",
     "text": [
      "Enter first value:4\n",
      "Enter second value:6\n",
      "Result after adding: 10\n",
      "Result after substraction: -2\n"
     ]
    }
   ],
   "source": [
    "def calculation(a,b):\n",
    "    return a+b,a-b\n",
    "a=int(input(\"Enter first value:\"))\n",
    "b=int(input(\"Enter second value:\"))\n",
    "res=calculation(a,b)\n",
    "res,_=calculation(a,b)\n",
    "print(\"Result after adding:\",res)\n",
    "_,res=calculation(a,b)\n",
    "print(\"Result after substraction:\",res)\n",
    "\n",
    "\n"
   ]
  },
  {
   "cell_type": "markdown",
   "metadata": {},
   "source": [
    "###  Q2 : Create a function showEmployee() in such a way that it should accept employee name, and it’s salary and display both,and if the salary is missing in function call it should show it as 9000"
   ]
  },
  {
   "cell_type": "code",
   "execution_count": 23,
   "metadata": {},
   "outputs": [
    {
     "name": "stdout",
     "output_type": "stream",
     "text": [
      "Enter your employee name:Rasli\n",
      "Enter salary:25000\n",
      "Employee Detailes:\n",
      "------------------\n",
      "Employee name: Rasli and salary: 25000\n",
      "Enter your employee name:Misriya\n",
      "Employee Detailes:\n",
      "------------------\n",
      "Employee name: Misriya and salary: 9000\n"
     ]
    }
   ],
   "source": [
    "def showEmployee(a,b=9000):\n",
    "    print(\"Employee Detailes:\")\n",
    "    print(\"------------------\")\n",
    "    print(\"Employee name:\",a,\"and salary:\", b)\n",
    "name=str(input(\"Enter your employee name:\"))\n",
    "salary=int(input(\"Enter salary:\" ))\n",
    "showEmployee(name,salary)\n",
    "name=str(input(\"Enter your employee name:\"))\n",
    "showEmployee(name)"
   ]
  },
  {
   "cell_type": "markdown",
   "metadata": {},
   "source": [
    "### Q3 : Write a function called multipleLetterCount. This function takes in one parameter (a string) and returns a dictionary with the keys being the letters and the value being the count of the letter.\n",
    "### Example output:\n",
    "### multipleLetterCount('awesome')\n",
    "### {'a': 1, 'e': 2, 'm': 1, 'o': 1, 's': 1, 'w': 1}"
   ]
  },
  {
   "cell_type": "code",
   "execution_count": 44,
   "metadata": {},
   "outputs": [
    {
     "name": "stdout",
     "output_type": "stream",
     "text": [
      "Enter a string:Awesome\n",
      "{'A': 1, 'w': 1, 'e': 2, 's': 1, 'o': 1, 'm': 1}\n"
     ]
    }
   ],
   "source": [
    "def multipleLetterCount(a):\n",
    "    dic={}\n",
    "    for i in string:\n",
    "        dic[i]=dic.get(i,0) + 1 # to get key and value into dictionary and count the number of occurence of a letter i in the string\n",
    "    print(dic)     \n",
    "    \n",
    "string=str(input(\"Enter a string:\"))\n",
    "multipleLetterCount(string)"
   ]
  }
 ],
 "metadata": {
  "kernelspec": {
   "display_name": "Python 3",
   "language": "python",
   "name": "python3"
  },
  "language_info": {
   "codemirror_mode": {
    "name": "ipython",
    "version": 3
   },
   "file_extension": ".py",
   "mimetype": "text/x-python",
   "name": "python",
   "nbconvert_exporter": "python",
   "pygments_lexer": "ipython3",
   "version": "3.8.3"
  }
 },
 "nbformat": 4,
 "nbformat_minor": 4
}
